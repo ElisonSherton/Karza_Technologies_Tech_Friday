{
 "cells": [
  {
   "cell_type": "code",
   "execution_count": null,
   "id": "79c74c32-1e80-450f-b179-853bcd893e30",
   "metadata": {},
   "outputs": [
    {
     "data": {
      "text/html": [
       "<div>\n",
       "<style scoped>\n",
       "    .dataframe tbody tr th:only-of-type {\n",
       "        vertical-align: middle;\n",
       "    }\n",
       "\n",
       "    .dataframe tbody tr th {\n",
       "        vertical-align: top;\n",
       "    }\n",
       "\n",
       "    .dataframe thead th {\n",
       "        text-align: right;\n",
       "    }\n",
       "</style>\n",
       "<table border=\"1\" class=\"dataframe\">\n",
       "  <thead>\n",
       "    <tr style=\"text-align: right;\">\n",
       "      <th></th>\n",
       "      <th>Actual</th>\n",
       "      <th>Predictions1</th>\n",
       "      <th>Predictions2</th>\n",
       "    </tr>\n",
       "  </thead>\n",
       "  <tbody>\n",
       "    <tr>\n",
       "      <th>0</th>\n",
       "      <td>5.4</td>\n",
       "      <td>5.6</td>\n",
       "      <td>5.35</td>\n",
       "    </tr>\n",
       "    <tr>\n",
       "      <th>1</th>\n",
       "      <td>4.5</td>\n",
       "      <td>4.1</td>\n",
       "      <td>4.45</td>\n",
       "    </tr>\n",
       "    <tr>\n",
       "      <th>2</th>\n",
       "      <td>7.8</td>\n",
       "      <td>7.8</td>\n",
       "      <td>7.77</td>\n",
       "    </tr>\n",
       "    <tr>\n",
       "      <th>3</th>\n",
       "      <td>9.6</td>\n",
       "      <td>9.8</td>\n",
       "      <td>9.55</td>\n",
       "    </tr>\n",
       "  </tbody>\n",
       "</table>\n",
       "</div>"
      ],
      "text/plain": [
       "   Actual  Predictions1  Predictions2\n",
       "0     5.4           5.6          5.35\n",
       "1     4.5           4.1          4.45\n",
       "2     7.8           7.8          7.77\n",
       "3     9.6           9.8          9.55"
      ]
     },
     "execution_count": null,
     "metadata": {},
     "output_type": "execute_result"
    }
   ],
   "source": [
    "import numpy as np\n",
    "import pandas as pd\n",
    "\n",
    "y = np.array([5.4, 4.5, 7.8, 9.6])\n",
    "preds1 = np.array([5.6, 4.1, 7.8, 9.8])\n",
    "preds2 = np.array([5.35, 4.45, 7.77, 9.55])\n",
    "\n",
    "df = pd.DataFrame([y, preds1, preds2], index = [\"Actual\", \"Predictions1\", \"Predictions2\"]).T\n",
    "df"
   ]
  },
  {
   "cell_type": "code",
   "execution_count": null,
   "id": "eef5d50d-ff78-48b2-a17a-f6d4b5eb4590",
   "metadata": {},
   "outputs": [],
   "source": [
    "def get_rmse(y, p):\n",
    "    return (((y - p) ** 2).mean()) ** 0.5\n",
    "def get_mae(y, p):\n",
    "    return np.abs(y - p).mean()"
   ]
  },
  {
   "cell_type": "code",
   "execution_count": null,
   "id": "3ed22936-b52d-4a16-a2e8-6d54cde7c9fc",
   "metadata": {},
   "outputs": [
    {
     "name": "stdout",
     "output_type": "stream",
     "text": [
      "RMSE Preds1: 0.2449\n",
      "MAE  Preds1: 0.2000\n"
     ]
    }
   ],
   "source": [
    "print(f\"RMSE Preds1: {get_rmse(df.Actual, df.Predictions1):.4f}\")\n",
    "print(f\"MAE  Preds1: {get_mae(df.Actual, df.Predictions1):.4f}\")"
   ]
  },
  {
   "cell_type": "code",
   "execution_count": null,
   "id": "e54d8f7c-7c3c-487e-a101-3c56a42b7a2d",
   "metadata": {},
   "outputs": [
    {
     "name": "stdout",
     "output_type": "stream",
     "text": [
      "RMSE Preds2: 0.0458\n",
      "MAE  Preds2: 0.0450\n"
     ]
    }
   ],
   "source": [
    "print(f\"RMSE Preds2: {get_rmse(df.Actual, df.Predictions2):.4f}\")\n",
    "print(f\"MAE  Preds2: {get_mae(df.Actual, df.Predictions2):.4f}\")"
   ]
  },
  {
   "cell_type": "markdown",
   "id": "55c006d6-0d4e-4f6b-bc09-3b4779f1ae63",
   "metadata": {},
   "source": [
    "Hence we can observe none of the above cases show RMSE is less than MAE. Our answer hence is `NOTA`."
   ]
  },
  {
   "cell_type": "markdown",
   "id": "2751ce90-ab2a-41bb-bb9c-4c7b444dae3a",
   "metadata": {},
   "source": [
    "$$\n",
    "\\pagebreak\n",
    "$$"
   ]
  },
  {
   "cell_type": "markdown",
   "id": "afe57dec-e285-4388-a206-8e36a2715b1a",
   "metadata": {},
   "source": [
    "**General case**\n",
    "\n",
    "The definitions of RMSE and MAE are as follows\n",
    "\n",
    "$$\n",
    "\\text{MSE} = \\frac{\\Sigma_{i=1}^{n} \\delta_i^2}{n}\n",
    "$$\n",
    "\n",
    "$$\n",
    "\\text{MAE} = \\frac{\\Sigma_{i=1}^{n} \\delta_i}{n}\n",
    "$$\n",
    "\n",
    "where\n",
    "\n",
    "$$\n",
    "\\delta_i = |x_i - \\mu_x|\n",
    "$$\n",
    "\n",
    "and\n",
    "\n",
    "$$\n",
    "\\mu_x = \\frac{\\Sigma_{i=1}^n x_i}{n}\n",
    "$$\n",
    "\n",
    "\n",
    "Consider the following summation\n",
    "\n",
    "$$S = \\delta_{1}^2 + \\delta_{2}^2 + \\delta_{3}^2 + ... + \\delta_{n}^2$$\n",
    "$$\\therefore S = \\Sigma_{i=1}^{n} \\delta_i^2$$\n",
    "$$\\therefore S = \\Sigma_{i=1}^{n} (\\delta_i-\\mu_{\\delta} + \\mu_{\\delta})^2$$\n",
    "$$\\therefore S = \\Sigma_{i=1}^{n} ((\\delta_i-\\mu_{\\delta}) + \\mu_{\\delta})^2$$\n",
    "$$\\therefore S = \\Sigma_{i=1}^{n} ((\\delta_i-\\mu_{\\delta})^2 + \\mu_{\\delta}^2 - 2\\mu_{\\delta}(\\delta_i - \\mu_{\\delta}))$$\n",
    "$$\\therefore S = \\Sigma_{i=1}^{n} (\\delta_i-\\mu_{\\delta})^2 + \\Sigma_{i=1}^{n} \\mu_{\\delta}^2 - \\Sigma_{i=1}^{n} 2\\mu_{\\delta}(\\delta_i - \\mu_{\\delta})$$\n",
    "$$\\therefore S = S_1 + S_2 - S_3$$\n",
    "\n",
    "where \n",
    "\n",
    "$$\n",
    "S_1 = \\Sigma_{i=1}^{n} (\\delta_i-\\mu_{\\delta})^2\n",
    "$$\n",
    "\n",
    "$$\n",
    "S_2 = \\Sigma_{i=1}^{n} \\mu_{\\delta}^2\n",
    "$$\n",
    "\n",
    "$$\n",
    "S_3 = \\Sigma_{i=1}^{n} 2\\mu_{\\delta}(\\delta_i - \\mu_{\\delta})\n",
    "$$"
   ]
  },
  {
   "cell_type": "markdown",
   "id": "beb93d31-435a-403f-a987-4844e1e59449",
   "metadata": {},
   "source": [
    "$$\n",
    "\\pagebreak\n",
    "$$"
   ]
  },
  {
   "cell_type": "markdown",
   "id": "eb9158d2-dd74-424c-8725-e6f217b10338",
   "metadata": {},
   "source": [
    "Now let us expand $S_3$ further and check what we get.\n",
    "\n",
    "$$\n",
    "S_3 = \\Sigma_{i=1}^{n} 2\\mu_{\\delta}(\\delta_i - \\mu_{\\delta})\n",
    "$$\n",
    "\n",
    "$$\n",
    "\\therefore S_3 = 2\\mu_{\\delta} \\Sigma_{i=1}^{n}(\\delta_i - \\mu_{\\delta})\n",
    "$$\n",
    "\n",
    "$$\n",
    "\\therefore S_3 = 2\\mu_{\\delta} (\\Sigma_{i=1}^{n}\\delta_i - \\Sigma_{i=1}^{n}\\mu_{\\delta})\n",
    "$$\n",
    "\n",
    "$$\n",
    "\\therefore S_3 = 2\\mu_{\\delta} (n \\mu_{\\delta} - \\mu_{\\delta} \\Sigma_{i=1}^{n}1)\n",
    "$$\n",
    "\n",
    "$$\n",
    "\\therefore S_3 = 2\\mu_{\\delta} (n \\mu_{\\delta} - \\mu_{\\delta} n)\n",
    "$$\n",
    "\n",
    "$$\n",
    "\\therefore S_3 = 0\n",
    "$$\n"
   ]
  },
  {
   "cell_type": "markdown",
   "id": "a8e8a554-991f-4a93-af38-15319640386e",
   "metadata": {},
   "source": [
    "Let us expand $S_2$ and see what we get\n",
    "\n",
    "$$\n",
    "S_2 = \\Sigma_{i=1}^{n} \\mu_{\\delta}^2\n",
    "$$\n",
    "\n",
    "$$\n",
    "\\therefore S_2 = \\mu_{\\delta}^2 \\Sigma_{i=1}^{n} 1\n",
    "$$\n",
    "\n",
    "$$\n",
    "\\therefore S_2 = \\mu_{\\delta}^2 n\n",
    "$$\n",
    "\n",
    "\n",
    "$$\n",
    "\\therefore S_2 = (\\frac{\\Sigma_{i=1}^n \\delta_i}{n})^2 n\n",
    "$$\n",
    "\n",
    "$$\n",
    "\\therefore S_2 = n \\times MAE^2\n",
    "$$\n"
   ]
  },
  {
   "cell_type": "markdown",
   "id": "3dbe377c-21c3-4e2e-8bb7-b172208deb35",
   "metadata": {},
   "source": [
    "$$\n",
    "\\pagebreak\n",
    "$$"
   ]
  },
  {
   "cell_type": "markdown",
   "id": "18df8340-78e4-4362-bc79-6c7276fa9888",
   "metadata": {},
   "source": [
    "Now, consider the parent sum i.e. S,\n",
    "\n",
    "$$S = \\Sigma_{i=1}^{n} \\delta_i^2$$\n",
    "\n",
    "We know that \n",
    "$$\n",
    "\\text{MSE} = \\frac{\\Sigma_{i=1}^{n} \\delta_i^2}{n}\n",
    "$$\n",
    "\n",
    "Hence, we can say that\n",
    "\n",
    "$$S = n \\times MSE$$\n",
    "\n",
    "Let us substitute our values for $S, S_1, S_2, S_3$ respectively in the equations above and see what we get.\n",
    "\n",
    "$$\n",
    "S = S_1 + S_2 - S_3\n",
    "$$\n",
    "\n",
    "$$\n",
    "\\therefore n \\times MSE = \\Sigma_{i=1}^{n} (\\delta_i-\\mu_{\\delta})^2 + n \\times MAE^2 - 0\n",
    "$$\n",
    "\n",
    "Dividing by n on both sides we get,\n",
    "\n",
    "$$\n",
    "\\therefore  MSE = \\frac{\\Sigma_{i=1}^{n} (\\delta_i-\\mu_{\\delta})^2}{n} + MAE^2\n",
    "$$\n",
    "\n",
    "The quantity S1 is lower bound by zero since it is a sum of squares which can never be negative, hence we can conclude that\n",
    "\n",
    "$$\n",
    "\\therefore  MSE \\geq MAE^2\n",
    "$$\n",
    "\n",
    "Taking positive square roots on both the sides, we get\n",
    "\n",
    "$$\n",
    "\\therefore  RMSE \\geq MAE\n",
    "$$\n"
   ]
  },
  {
   "cell_type": "markdown",
   "id": "47a4975a-ecde-4347-8acf-8bdb7470923e",
   "metadata": {},
   "source": [
    "Hence we see that the value of `RMSE` will always be as less as `MAE` but it cannot dip any further than that. `MAE` is therefore in one way a lower bound for `RMSE`.\n",
    "\n",
    "It will never be the case that for a given data/series, the `MAE` metric exceeds the `RMSE` metric."
   ]
  }
 ],
 "metadata": {
  "kernelspec": {
   "display_name": "Python 3 (ipykernel)",
   "language": "python",
   "name": "python3"
  }
 },
 "nbformat": 4,
 "nbformat_minor": 5
}
